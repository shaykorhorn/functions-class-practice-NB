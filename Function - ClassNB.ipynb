{
 "cells": [
  {
   "cell_type": "markdown",
   "id": "08560f87",
   "metadata": {},
   "source": [
    "* Shay Korhorn\n",
    "* Ch 8 NB\n",
    "* Version 1\n",
    "* Fall 2023"
   ]
  },
  {
   "cell_type": "markdown",
   "id": "6a7941e9",
   "metadata": {},
   "source": [
    "# Chapter 8: Functions in Python"
   ]
  },
  {
   "cell_type": "markdown",
   "id": "9d8b91de",
   "metadata": {},
   "source": [
    "## Defining\n",
    "* A function is a block of code which only runs when it is called.\n",
    "\n",
    "* You can pass data, known as parameters, into a function.\n",
    "\n",
    "* A function can return data as a result."
   ]
  },
  {
   "cell_type": "markdown",
   "id": "6557ee86",
   "metadata": {},
   "source": [
    "### This is how you define a function in Python\n",
    "- `def`keyword\n",
    "- name of the function\n",
    "- (parameters) --> parameters can also be empty\n",
    "- body of the function"
   ]
  },
  {
   "cell_type": "code",
   "execution_count": 1,
   "id": "42cfffc8",
   "metadata": {},
   "outputs": [],
   "source": [
    "# def name_of_the_function(parameters):\n",
    "        # function body\n",
    "def my_function():\n",
    "    print(\"Hello\")\n",
    "    "
   ]
  },
  {
   "cell_type": "code",
   "execution_count": 2,
   "id": "779efb4c",
   "metadata": {},
   "outputs": [
    {
     "name": "stdout",
     "output_type": "stream",
     "text": [
      "Hello\n"
     ]
    }
   ],
   "source": [
    "# call the function\n",
    "my_function()"
   ]
  },
  {
   "cell_type": "code",
   "execution_count": 3,
   "id": "d41998b7",
   "metadata": {},
   "outputs": [
    {
     "name": "stdout",
     "output_type": "stream",
     "text": [
      "Hello\n"
     ]
    }
   ],
   "source": [
    "my_function()"
   ]
  },
  {
   "cell_type": "markdown",
   "id": "5c361e5a",
   "metadata": {},
   "source": [
    "### Why we need function?"
   ]
  },
  {
   "cell_type": "code",
   "execution_count": 4,
   "id": "3501abf0",
   "metadata": {},
   "outputs": [
    {
     "name": "stdout",
     "output_type": "stream",
     "text": [
      "2001 Newburg Rd.\n",
      "2001 Newburg Rd.\n",
      "2001 Newburg Rd.\n"
     ]
    }
   ],
   "source": [
    "print(\"2001 Newburg Rd.\")\n",
    "print(\"2001 Newburg Rd.\")\n",
    "print(\"2001 Newburg Rd.\")"
   ]
  },
  {
   "cell_type": "code",
   "execution_count": 5,
   "id": "ebe88bc7",
   "metadata": {},
   "outputs": [],
   "source": [
    "def address():\n",
    "    print(\"2001 Newburg Rd.\")"
   ]
  },
  {
   "cell_type": "code",
   "execution_count": 6,
   "id": "c77fb1da",
   "metadata": {},
   "outputs": [
    {
     "name": "stdout",
     "output_type": "stream",
     "text": [
      "2001 Newburg Rd.\n",
      "2001 Newburg Rd.\n",
      "2001 Newburg Rd.\n"
     ]
    }
   ],
   "source": [
    "address()\n",
    "address()\n",
    "address()"
   ]
  },
  {
   "cell_type": "markdown",
   "id": "d0f1621e",
   "metadata": {},
   "source": [
    "### Function with parameters"
   ]
  },
  {
   "cell_type": "markdown",
   "id": "08338a48",
   "metadata": {},
   "source": [
    "\n",
    "### The `return` statement: \n",
    "* Use inside a function or method to send the function’s result back to the caller. \n",
    "* A return statement consists of the `return` keyword followed by an optional return value\n",
    "\n",
    "* Three Ways to Return a Result to a Function’s Caller\n",
    "    * **`return`** followed by an expression.\n",
    "    * **`return`** without an expression implicitly returns **`None`**&mdash;represents the **absence of a value** and **evaluates to `False` in conditions**.\n",
    "    * **No `return` statement implicitly returns `None`**.\n"
   ]
  },
  {
   "cell_type": "code",
   "execution_count": 7,
   "id": "7d925d43",
   "metadata": {},
   "outputs": [],
   "source": [
    "# create a function that return square of a number\n",
    "import math\n",
    "def square(x):\n",
    "    return (math.pow(x,2))"
   ]
  },
  {
   "cell_type": "code",
   "execution_count": 8,
   "id": "b60d6e32",
   "metadata": {},
   "outputs": [
    {
     "data": {
      "text/plain": [
       "100.0"
      ]
     },
     "execution_count": 8,
     "metadata": {},
     "output_type": "execute_result"
    }
   ],
   "source": [
    "square(10)"
   ]
  },
  {
   "cell_type": "code",
   "execution_count": 9,
   "id": "f5635e43",
   "metadata": {},
   "outputs": [
    {
     "data": {
      "text/plain": [
       "1759692453156.0"
      ]
     },
     "execution_count": 9,
     "metadata": {},
     "output_type": "execute_result"
    }
   ],
   "source": [
    "square(1326534)"
   ]
  },
  {
   "cell_type": "code",
   "execution_count": 10,
   "id": "944ec384",
   "metadata": {},
   "outputs": [
    {
     "data": {
      "text/plain": [
       "64.0"
      ]
     },
     "execution_count": 10,
     "metadata": {},
     "output_type": "execute_result"
    }
   ],
   "source": [
    "# Cube of a number\n",
    "import math\n",
    "def cube(x):\n",
    "    return (math.pow(x,3))\n",
    "cube(4)\n"
   ]
  },
  {
   "cell_type": "code",
   "execution_count": 12,
   "id": "acc60cc6",
   "metadata": {},
   "outputs": [],
   "source": [
    "#print(x) \n",
    "# generate name error\n",
    "# x is a local variable and only valid inside the function."
   ]
  },
  {
   "cell_type": "markdown",
   "id": "0ea073dd",
   "metadata": {},
   "source": [
    "## Our own functions for practice\n",
    "`Echo` that will act same as print"
   ]
  },
  {
   "cell_type": "code",
   "execution_count": 13,
   "id": "8b616e47",
   "metadata": {},
   "outputs": [
    {
     "data": {
      "text/plain": [
       "'Name'"
      ]
     },
     "execution_count": 13,
     "metadata": {},
     "output_type": "execute_result"
    }
   ],
   "source": [
    "def echo(data):\n",
    "    return data\n",
    "echo(\"Name\")"
   ]
  },
  {
   "cell_type": "code",
   "execution_count": 14,
   "id": "f65fdcf3",
   "metadata": {},
   "outputs": [
    {
     "data": {
      "text/plain": [
       "10"
      ]
     },
     "execution_count": 14,
     "metadata": {},
     "output_type": "execute_result"
    }
   ],
   "source": [
    "echo(10)"
   ]
  },
  {
   "cell_type": "code",
   "execution_count": 17,
   "id": "34572a42",
   "metadata": {},
   "outputs": [],
   "source": [
    "def echo_1(data):\n",
    "    print(data)"
   ]
  },
  {
   "cell_type": "code",
   "execution_count": 18,
   "id": "8f1239de",
   "metadata": {},
   "outputs": [
    {
     "name": "stdout",
     "output_type": "stream",
     "text": [
      "23\n"
     ]
    }
   ],
   "source": [
    "echo_1(23)"
   ]
  },
  {
   "cell_type": "markdown",
   "id": "5e46b2db",
   "metadata": {},
   "source": [
    "### Practice1 Favorite Book: Write a function called favorite_book() that accepts one parameter, title. \n",
    "The function should print a message, such as One of my\n",
    "favorite books is Alice in Wonderland. Call the function, making sure to\n",
    "include a book title as an argument in the function call."
   ]
  },
  {
   "cell_type": "code",
   "execution_count": 1,
   "id": "acb00f6e",
   "metadata": {},
   "outputs": [
    {
     "name": "stdout",
     "output_type": "stream",
     "text": [
      "One of my favorite books is Alice in Wonderland.\n"
     ]
    }
   ],
   "source": [
    "def favorite_book(title):\n",
    "    print(f\"One of my favorite books is {title}.\")\n",
    "\n",
    "# call the function with a book title\n",
    "favorite_book(\"Alice in Wonderland\")"
   ]
  },
  {
   "cell_type": "markdown",
   "id": "83d0088a",
   "metadata": {},
   "source": [
    "### Functions with Multiple Parameters\n",
    "* `calc_MPG` function that determines the MPG from miles driven and gallons used"
   ]
  },
  {
   "cell_type": "code",
   "execution_count": 19,
   "id": "a50a0c0b",
   "metadata": {},
   "outputs": [],
   "source": [
    "def calc_MPG(miles_driven, gallon_used):\n",
    "    return miles_driven/gallon_used"
   ]
  },
  {
   "cell_type": "code",
   "execution_count": 22,
   "id": "2e7d4b38",
   "metadata": {},
   "outputs": [
    {
     "name": "stdout",
     "output_type": "stream",
     "text": [
      "The MPG is: 40.0\n"
     ]
    }
   ],
   "source": [
    "print(f\"The MPG is: {calc_MPG(200, 5)}\")"
   ]
  },
  {
   "cell_type": "code",
   "execution_count": 24,
   "id": "716d1c02",
   "metadata": {},
   "outputs": [
    {
     "name": "stdout",
     "output_type": "stream",
     "text": [
      "The MPG is: 52.24\n"
     ]
    }
   ],
   "source": [
    "print(f\"The MPG is: {calc_MPG(350, 6.7):.2f}\")"
   ]
  },
  {
   "cell_type": "markdown",
   "id": "b5e05036",
   "metadata": {},
   "source": [
    "## Default Parameter\n",
    "With default parameters, you can specify a default value that will be used for the function. If you pass a parameter in for the default value, it uses that value instead. \n",
    "### def MPG(miles=200,gallon=12)"
   ]
  },
  {
   "cell_type": "code",
   "execution_count": 1,
   "id": "12309231",
   "metadata": {},
   "outputs": [
    {
     "data": {
      "text/plain": [
       "8.333333333333334"
      ]
     },
     "execution_count": 1,
     "metadata": {},
     "output_type": "execute_result"
    }
   ],
   "source": [
    "def MPG(miles=100, gallon=12):\n",
    "    return miles/gallon\n",
    "MPG()"
   ]
  },
  {
   "cell_type": "code",
   "execution_count": 2,
   "id": "899b006a",
   "metadata": {},
   "outputs": [
    {
     "data": {
      "text/plain": [
       "17.5"
      ]
     },
     "execution_count": 2,
     "metadata": {},
     "output_type": "execute_result"
    }
   ],
   "source": [
    "MPG(miles=210) # gallon remains the default value"
   ]
  },
  {
   "cell_type": "code",
   "execution_count": 3,
   "id": "85334956",
   "metadata": {},
   "outputs": [
    {
     "data": {
      "text/plain": [
       "10.0"
      ]
     },
     "execution_count": 3,
     "metadata": {},
     "output_type": "execute_result"
    }
   ],
   "source": [
    "MPG(gallon=10)"
   ]
  },
  {
   "cell_type": "code",
   "execution_count": 4,
   "id": "7ddbcd95",
   "metadata": {},
   "outputs": [
    {
     "data": {
      "text/plain": [
       "40.0"
      ]
     },
     "execution_count": 4,
     "metadata": {},
     "output_type": "execute_result"
    }
   ],
   "source": [
    "MPG(miles=600, gallon=15)"
   ]
  },
  {
   "cell_type": "markdown",
   "id": "c7f67792",
   "metadata": {},
   "source": [
    "###  Function repeat using `for` loop"
   ]
  },
  {
   "cell_type": "code",
   "execution_count": 6,
   "id": "485f3873",
   "metadata": {},
   "outputs": [],
   "source": [
    "# echo\n",
    "def repeat_echo(data, count):\n",
    "    for i in range (count):\n",
    "        print(data)"
   ]
  },
  {
   "cell_type": "code",
   "execution_count": 7,
   "id": "a1699662",
   "metadata": {},
   "outputs": [
    {
     "name": "stdout",
     "output_type": "stream",
     "text": [
      "Hello\n",
      "Hello\n",
      "Hello\n",
      "Hello\n",
      "Hello\n",
      "Hello\n",
      "Hello\n",
      "Hello\n",
      "Hello\n",
      "Hello\n"
     ]
    }
   ],
   "source": [
    "repeat_echo(\"Hello\", 10)"
   ]
  },
  {
   "cell_type": "markdown",
   "id": "b3003a72",
   "metadata": {},
   "source": [
    "## Practice: Define a function called `name` and print your name 20 times using the function"
   ]
  },
  {
   "cell_type": "code",
   "execution_count": 8,
   "id": "74ecdff8",
   "metadata": {},
   "outputs": [],
   "source": [
    "def name(name, count):\n",
    "    for i in range (count):\n",
    "        print(name)"
   ]
  },
  {
   "cell_type": "code",
   "execution_count": 11,
   "id": "255cdef1",
   "metadata": {},
   "outputs": [
    {
     "name": "stdout",
     "output_type": "stream",
     "text": [
      "name\n",
      "name\n",
      "name\n",
      "name\n",
      "name\n",
      "name\n",
      "name\n",
      "name\n",
      "name\n",
      "name\n",
      "name\n",
      "name\n",
      "name\n",
      "name\n",
      "name\n",
      "name\n",
      "name\n",
      "name\n",
      "name\n",
      "name\n"
     ]
    }
   ],
   "source": [
    "repeat_echo(\"name\", 20)"
   ]
  },
  {
   "cell_type": "markdown",
   "id": "c9b50f99",
   "metadata": {},
   "source": [
    "### Write a function to find maximum of three values"
   ]
  },
  {
   "cell_type": "code",
   "execution_count": 19,
   "id": "cf2eba04",
   "metadata": {},
   "outputs": [
    {
     "data": {
      "text/plain": [
       "45"
      ]
     },
     "execution_count": 19,
     "metadata": {},
     "output_type": "execute_result"
    }
   ],
   "source": [
    "max(10,20,45)"
   ]
  },
  {
   "cell_type": "code",
   "execution_count": 20,
   "id": "333853e2",
   "metadata": {},
   "outputs": [],
   "source": [
    "def maximum(a,b,c):\n",
    "    if a>b and a>c:\n",
    "        largest=a\n",
    "    elif b>c:\n",
    "        largest=b\n",
    "    else:\n",
    "        largest=c\n",
    "    print(largest)"
   ]
  },
  {
   "cell_type": "code",
   "execution_count": 21,
   "id": "b7737b3e",
   "metadata": {},
   "outputs": [
    {
     "name": "stdout",
     "output_type": "stream",
     "text": [
      "45\n"
     ]
    }
   ],
   "source": [
    "maximum(10,45,3)"
   ]
  },
  {
   "cell_type": "code",
   "execution_count": 22,
   "id": "4d547ad4",
   "metadata": {},
   "outputs": [
    {
     "name": "stdout",
     "output_type": "stream",
     "text": [
      "z\n"
     ]
    }
   ],
   "source": [
    "maximum(\"a\", \"8\", \"z\")"
   ]
  },
  {
   "cell_type": "code",
   "execution_count": 23,
   "id": "996fb196",
   "metadata": {},
   "outputs": [
    {
     "name": "stdout",
     "output_type": "stream",
     "text": [
      "Sun\n"
     ]
    }
   ],
   "source": [
    "maximum(\"Sun\", \"Moon\", \"Earth\")"
   ]
  },
  {
   "cell_type": "markdown",
   "id": "1a8c15bd",
   "metadata": {},
   "source": [
    "### Practice Example: Define `minimum` function of three values"
   ]
  },
  {
   "cell_type": "code",
   "execution_count": 24,
   "id": "22599399",
   "metadata": {},
   "outputs": [],
   "source": [
    "def minimum(a,b,c):\n",
    "    if a>b and a>c:\n",
    "        largest=a\n",
    "    elif b>c:\n",
    "        largest=b\n",
    "    else:\n",
    "        largest=c\n",
    "    return largest"
   ]
  },
  {
   "cell_type": "code",
   "execution_count": 25,
   "id": "9d505c8b",
   "metadata": {},
   "outputs": [
    {
     "data": {
      "text/plain": [
       "65"
      ]
     },
     "execution_count": 25,
     "metadata": {},
     "output_type": "execute_result"
    }
   ],
   "source": [
    "minimum(50,65,12)"
   ]
  },
  {
   "cell_type": "markdown",
   "id": "f20ad451",
   "metadata": {},
   "source": [
    "#  Arbitrary Argument Lists\n",
    "*  **`*args`**, indicating that the function can receive any number of additional arguments. \n",
    "* The `*` before the parameter name tells Python to pack any remaining arguments into a tuple that’s passed to the `args` parameter."
   ]
  },
  {
   "cell_type": "code",
   "execution_count": 26,
   "id": "c8b8817e",
   "metadata": {},
   "outputs": [],
   "source": [
    "def get_mean(*args):\n",
    "    return sum(args)/len(args)\n"
   ]
  },
  {
   "cell_type": "code",
   "execution_count": 27,
   "id": "607b5195",
   "metadata": {},
   "outputs": [
    {
     "data": {
      "text/plain": [
       "24.666666666666668"
      ]
     },
     "execution_count": 27,
     "metadata": {},
     "output_type": "execute_result"
    }
   ],
   "source": [
    "get_mean(10,56,8)"
   ]
  },
  {
   "cell_type": "code",
   "execution_count": 28,
   "id": "d86a3099",
   "metadata": {},
   "outputs": [
    {
     "data": {
      "text/plain": [
       "52.2"
      ]
     },
     "execution_count": 28,
     "metadata": {},
     "output_type": "execute_result"
    }
   ],
   "source": [
    "get_mean(45,12,34,78,92)"
   ]
  },
  {
   "cell_type": "markdown",
   "id": "84b44203",
   "metadata": {},
   "source": [
    "### Arbitrary Argumented list with list"
   ]
  },
  {
   "cell_type": "code",
   "execution_count": 32,
   "id": "3c6bb74b",
   "metadata": {},
   "outputs": [
    {
     "name": "stdout",
     "output_type": "stream",
     "text": [
      "[46, 12, 37, 40, 46, 10, 23, 39, 41, 27]\n"
     ]
    }
   ],
   "source": [
    "# create a random numbers list having 10 values in it of a range 10,50 (included)\n",
    "import random\n",
    "random.seed(10)\n",
    "numbers=[]\n",
    "for i in range (10):\n",
    "    x=random.randint(10,50)\n",
    "    numbers.append(x)\n",
    "print(numbers)"
   ]
  },
  {
   "cell_type": "code",
   "execution_count": 33,
   "id": "bdbadee9",
   "metadata": {},
   "outputs": [
    {
     "data": {
      "text/plain": [
       "32.1"
      ]
     },
     "execution_count": 33,
     "metadata": {},
     "output_type": "execute_result"
    }
   ],
   "source": [
    "get_mean(*numbers)"
   ]
  },
  {
   "cell_type": "markdown",
   "id": "688d1f13",
   "metadata": {},
   "source": [
    "### More about functions\n",
    "In this session we looked at the concept of `scope`, working with `random numbers`, `statictics` and using various versions of import to work with different functions in module."
   ]
  },
  {
   "cell_type": "markdown",
   "id": "d21db560",
   "metadata": {},
   "source": [
    "### Scope\n",
    "* Each identifier has a `scope` that determines where you can use it in your program.\n",
    "\n",
    "* A local variable’s identifier has **local scope**. \n",
    "\n",
    "* Identifiers defined outside any function (or class) have **global scope**—these may include functions, variables and classes."
   ]
  },
  {
   "cell_type": "markdown",
   "id": "d8e69b30",
   "metadata": {},
   "source": [
    "One thing you don't want to do is create a variable and function with the same name. The variable will \"hide\" the function and prevent you from calling it. If you execute the cell below it will throw an error."
   ]
  },
  {
   "cell_type": "code",
   "execution_count": 1,
   "id": "a646455d",
   "metadata": {},
   "outputs": [
    {
     "data": {
      "text/plain": [
       "6"
      ]
     },
     "execution_count": 1,
     "metadata": {},
     "output_type": "execute_result"
    }
   ],
   "source": [
    "x=10 # global variable\n",
    "def scope_of_function():\n",
    "    num=3 # local variable\n",
    "    return num*2\n",
    "\n",
    "scope_of_function()"
   ]
  },
  {
   "cell_type": "code",
   "execution_count": 3,
   "id": "0ecc0ffd",
   "metadata": {},
   "outputs": [],
   "source": [
    "#print(num)   generates NameError due to its local scope"
   ]
  },
  {
   "cell_type": "markdown",
   "id": "1a55bc5e",
   "metadata": {},
   "source": [
    "* By default, you cannot _modify_ a global variable in a function\n",
    "* Python creates a **new local variable** when you first assign a value to a variable in a function’s block.\n",
    "* In function `try_to_modify_global`’s block, the local `x` **shadows** the global `x`, making it inaccessible in the scope of the function’s block. "
   ]
  },
  {
   "cell_type": "code",
   "execution_count": 4,
   "id": "607bd492",
   "metadata": {},
   "outputs": [],
   "source": [
    "x=10\n",
    "def try_to_modify_global():\n",
    "    x=3.5\n",
    "    return x"
   ]
  },
  {
   "cell_type": "code",
   "execution_count": 5,
   "id": "effcd2a9",
   "metadata": {},
   "outputs": [
    {
     "data": {
      "text/plain": [
       "3.5"
      ]
     },
     "execution_count": 5,
     "metadata": {},
     "output_type": "execute_result"
    }
   ],
   "source": [
    "try_to_modify_global()"
   ]
  },
  {
   "cell_type": "code",
   "execution_count": 6,
   "id": "e2ffbcae",
   "metadata": {},
   "outputs": [
    {
     "name": "stdout",
     "output_type": "stream",
     "text": [
      "10\n"
     ]
    }
   ],
   "source": [
    "print(x)"
   ]
  },
  {
   "cell_type": "markdown",
   "id": "3023353c",
   "metadata": {},
   "source": [
    "* To modify a global variable in a function’s block, you must use a **`global`** statement to declare that the variable is defined in the global scope: \"modify_global\""
   ]
  },
  {
   "cell_type": "code",
   "execution_count": 8,
   "id": "ad58975d",
   "metadata": {},
   "outputs": [],
   "source": [
    "x=10\n",
    "def modify_global():\n",
    "    global x # scope of x changed from local to global\n",
    "    x=3.5\n",
    "    return x"
   ]
  },
  {
   "cell_type": "code",
   "execution_count": 9,
   "id": "c1578e44",
   "metadata": {},
   "outputs": [
    {
     "data": {
      "text/plain": [
       "3.5"
      ]
     },
     "execution_count": 9,
     "metadata": {},
     "output_type": "execute_result"
    }
   ],
   "source": [
    "modify_global()"
   ]
  },
  {
   "cell_type": "code",
   "execution_count": 10,
   "id": "8a59b4c9",
   "metadata": {},
   "outputs": [
    {
     "name": "stdout",
     "output_type": "stream",
     "text": [
      "3.5\n"
     ]
    }
   ],
   "source": [
    "print(x)"
   ]
  },
  {
   "cell_type": "markdown",
   "id": "109a13bb",
   "metadata": {},
   "source": [
    "## Write functions to find out Area and Perimeter of circle"
   ]
  },
  {
   "cell_type": "code",
   "execution_count": 11,
   "id": "19453914",
   "metadata": {},
   "outputs": [],
   "source": [
    "import math\n",
    "def area_circle(r):\n",
    "    return math.pi*math.pow(r,2)"
   ]
  },
  {
   "cell_type": "code",
   "execution_count": 13,
   "id": "3cc23bf3",
   "metadata": {},
   "outputs": [
    {
     "name": "stdout",
     "output_type": "stream",
     "text": [
      "The area of the circle is: 314.16\n"
     ]
    }
   ],
   "source": [
    "print(f\"The area of the circle is: {area_circle(10):.2f}\")"
   ]
  },
  {
   "cell_type": "code",
   "execution_count": 15,
   "id": "416ab6b5",
   "metadata": {},
   "outputs": [
    {
     "name": "stdout",
     "output_type": "stream",
     "text": [
      "The perimeter of the circle is: 62.832\n"
     ]
    }
   ],
   "source": [
    "def peri_circle(r):\n",
    "    return 2*math.pi*r\n",
    "print(f\"The perimeter of the circle is: {peri_circle(10):.3f}\")"
   ]
  },
  {
   "cell_type": "markdown",
   "id": "df6f51b1",
   "metadata": {},
   "source": [
    "## Write functions to find out Area and Perimeter of rectangle"
   ]
  },
  {
   "cell_type": "code",
   "execution_count": 16,
   "id": "d3b789f5",
   "metadata": {},
   "outputs": [
    {
     "name": "stdout",
     "output_type": "stream",
     "text": [
      "The area of the rectangle is: 150.00\n"
     ]
    }
   ],
   "source": [
    "def area_rect(b,h):\n",
    "    return b*h\n",
    "print(f\"The area of the rectangle is: {area_rect(10,15):.2f}\")"
   ]
  },
  {
   "cell_type": "code",
   "execution_count": 17,
   "id": "190aa5a8",
   "metadata": {},
   "outputs": [
    {
     "name": "stdout",
     "output_type": "stream",
     "text": [
      "The perimeter of the rectangle is: 50.00\n"
     ]
    }
   ],
   "source": [
    "def peri_rect(b,h):\n",
    "    return 2*(b+h)\n",
    "print(f\"The perimeter of the rectangle is: {peri_rect(10,15):.2f}\")"
   ]
  }
 ],
 "metadata": {
  "kernelspec": {
   "display_name": "Python 3 (ipykernel)",
   "language": "python",
   "name": "python3"
  },
  "language_info": {
   "codemirror_mode": {
    "name": "ipython",
    "version": 3
   },
   "file_extension": ".py",
   "mimetype": "text/x-python",
   "name": "python",
   "nbconvert_exporter": "python",
   "pygments_lexer": "ipython3",
   "version": "3.11.4"
  }
 },
 "nbformat": 4,
 "nbformat_minor": 5
}
